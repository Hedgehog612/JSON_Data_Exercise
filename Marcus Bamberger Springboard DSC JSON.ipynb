{
 "cells": [
  {
   "cell_type": "code",
   "execution_count": 88,
   "metadata": {},
   "outputs": [],
   "source": [
    "#Import everything\n",
    "import pandas as pd"
   ]
  },
  {
   "cell_type": "code",
   "execution_count": 89,
   "metadata": {},
   "outputs": [],
   "source": [
    "import json\n",
    "from pandas.io.json import json_normalize"
   ]
  },
  {
   "cell_type": "code",
   "execution_count": 90,
   "metadata": {},
   "outputs": [],
   "source": [
    "wb = pd.read_json('world_bank_projects.json')"
   ]
  },
  {
   "cell_type": "code",
   "execution_count": 91,
   "metadata": {},
   "outputs": [
    {
     "data": {
      "text/html": [
       "<div>\n",
       "<style scoped>\n",
       "    .dataframe tbody tr th:only-of-type {\n",
       "        vertical-align: middle;\n",
       "    }\n",
       "\n",
       "    .dataframe tbody tr th {\n",
       "        vertical-align: top;\n",
       "    }\n",
       "\n",
       "    .dataframe thead th {\n",
       "        text-align: right;\n",
       "    }\n",
       "</style>\n",
       "<table border=\"1\" class=\"dataframe\">\n",
       "  <thead>\n",
       "    <tr style=\"text-align: right;\">\n",
       "      <th></th>\n",
       "      <th>sector</th>\n",
       "      <th>supplementprojectflg</th>\n",
       "      <th>projectfinancialtype</th>\n",
       "      <th>prodline</th>\n",
       "      <th>mjtheme</th>\n",
       "      <th>idacommamt</th>\n",
       "      <th>impagency</th>\n",
       "      <th>project_name</th>\n",
       "      <th>mjthemecode</th>\n",
       "      <th>closingdate</th>\n",
       "      <th>...</th>\n",
       "      <th>majorsector_percent</th>\n",
       "      <th>board_approval_month</th>\n",
       "      <th>theme_namecode</th>\n",
       "      <th>countryname</th>\n",
       "      <th>url</th>\n",
       "      <th>source</th>\n",
       "      <th>projectstatusdisplay</th>\n",
       "      <th>ibrdcommamt</th>\n",
       "      <th>sector_namecode</th>\n",
       "      <th>_id</th>\n",
       "    </tr>\n",
       "  </thead>\n",
       "  <tbody>\n",
       "    <tr>\n",
       "      <td>0</td>\n",
       "      <td>[{'Name': 'Primary education'}, {'Name': 'Seco...</td>\n",
       "      <td>N</td>\n",
       "      <td>IDA</td>\n",
       "      <td>PE</td>\n",
       "      <td>[Human development]</td>\n",
       "      <td>130000000</td>\n",
       "      <td>MINISTRY OF EDUCATION</td>\n",
       "      <td>Ethiopia General Education Quality Improvement...</td>\n",
       "      <td>8,11</td>\n",
       "      <td>2018-07-07T00:00:00Z</td>\n",
       "      <td>...</td>\n",
       "      <td>[{'Percent': 46, 'Name': 'Education'}, {'Perce...</td>\n",
       "      <td>November</td>\n",
       "      <td>[{'code': '65', 'name': 'Education for all'}]</td>\n",
       "      <td>Federal Democratic Republic of Ethiopia</td>\n",
       "      <td>http://www.worldbank.org/projects/P129828/ethi...</td>\n",
       "      <td>IBRD</td>\n",
       "      <td>Active</td>\n",
       "      <td>0</td>\n",
       "      <td>[{'code': 'EP', 'name': 'Primary education'}, ...</td>\n",
       "      <td>{'$oid': '52b213b38594d8a2be17c780'}</td>\n",
       "    </tr>\n",
       "    <tr>\n",
       "      <td>1</td>\n",
       "      <td>[{'Name': 'Public administration- Other social...</td>\n",
       "      <td>N</td>\n",
       "      <td>OTHER</td>\n",
       "      <td>RE</td>\n",
       "      <td>[Economic management, Social protection and ri...</td>\n",
       "      <td>0</td>\n",
       "      <td>MINISTRY OF FINANCE</td>\n",
       "      <td>TN: DTF Social Protection Reforms Support</td>\n",
       "      <td>1,6</td>\n",
       "      <td>NaN</td>\n",
       "      <td>...</td>\n",
       "      <td>[{'Percent': 70, 'Name': 'Public Administratio...</td>\n",
       "      <td>November</td>\n",
       "      <td>[{'code': '24', 'name': 'Other economic manage...</td>\n",
       "      <td>Republic of Tunisia</td>\n",
       "      <td>http://www.worldbank.org/projects/P144674?lang=en</td>\n",
       "      <td>IBRD</td>\n",
       "      <td>Active</td>\n",
       "      <td>0</td>\n",
       "      <td>[{'code': 'BS', 'name': 'Public administration...</td>\n",
       "      <td>{'$oid': '52b213b38594d8a2be17c781'}</td>\n",
       "    </tr>\n",
       "    <tr>\n",
       "      <td>2</td>\n",
       "      <td>[{'Name': 'Rural and Inter-Urban Roads and Hig...</td>\n",
       "      <td>Y</td>\n",
       "      <td>IDA</td>\n",
       "      <td>PE</td>\n",
       "      <td>[Trade and integration, Public sector governan...</td>\n",
       "      <td>6060000</td>\n",
       "      <td>MINISTRY OF TRANSPORT AND COMMUNICATIONS</td>\n",
       "      <td>Tuvalu Aviation Investment Project - Additiona...</td>\n",
       "      <td>5,2,11,6</td>\n",
       "      <td>NaN</td>\n",
       "      <td>...</td>\n",
       "      <td>[{'Percent': 100, 'Name': 'Transportation'}]</td>\n",
       "      <td>November</td>\n",
       "      <td>[{'code': '47', 'name': 'Regional integration'...</td>\n",
       "      <td>Tuvalu</td>\n",
       "      <td>http://www.worldbank.org/projects/P145310?lang=en</td>\n",
       "      <td>IBRD</td>\n",
       "      <td>Active</td>\n",
       "      <td>0</td>\n",
       "      <td>[{'code': 'TI', 'name': 'Rural and Inter-Urban...</td>\n",
       "      <td>{'$oid': '52b213b38594d8a2be17c782'}</td>\n",
       "    </tr>\n",
       "    <tr>\n",
       "      <td>3</td>\n",
       "      <td>[{'Name': 'Other social services'}]</td>\n",
       "      <td>N</td>\n",
       "      <td>OTHER</td>\n",
       "      <td>RE</td>\n",
       "      <td>[Social dev/gender/inclusion, Social dev/gende...</td>\n",
       "      <td>0</td>\n",
       "      <td>LABOR INTENSIVE PUBLIC WORKS PROJECT PMU</td>\n",
       "      <td>Gov't and Civil Society Organization Partnership</td>\n",
       "      <td>7,7</td>\n",
       "      <td>NaN</td>\n",
       "      <td>...</td>\n",
       "      <td>[{'Percent': 100, 'Name': 'Health and other so...</td>\n",
       "      <td>October</td>\n",
       "      <td>[{'code': '57', 'name': 'Participation and civ...</td>\n",
       "      <td>Republic of Yemen</td>\n",
       "      <td>http://www.worldbank.org/projects/P144665?lang=en</td>\n",
       "      <td>IBRD</td>\n",
       "      <td>Active</td>\n",
       "      <td>0</td>\n",
       "      <td>[{'code': 'JB', 'name': 'Other social services'}]</td>\n",
       "      <td>{'$oid': '52b213b38594d8a2be17c783'}</td>\n",
       "    </tr>\n",
       "    <tr>\n",
       "      <td>4</td>\n",
       "      <td>[{'Name': 'General industry and trade sector'}...</td>\n",
       "      <td>N</td>\n",
       "      <td>IDA</td>\n",
       "      <td>PE</td>\n",
       "      <td>[Trade and integration, Financial and private ...</td>\n",
       "      <td>13100000</td>\n",
       "      <td>MINISTRY OF TRADE AND INDUSTRY</td>\n",
       "      <td>Second Private Sector Competitiveness and Econ...</td>\n",
       "      <td>5,4</td>\n",
       "      <td>2019-04-30T00:00:00Z</td>\n",
       "      <td>...</td>\n",
       "      <td>[{'Percent': 50, 'Name': 'Industry and trade'}...</td>\n",
       "      <td>October</td>\n",
       "      <td>[{'code': '45', 'name': 'Export development an...</td>\n",
       "      <td>Kingdom of Lesotho</td>\n",
       "      <td>http://www.worldbank.org/projects/P144933/seco...</td>\n",
       "      <td>IBRD</td>\n",
       "      <td>Active</td>\n",
       "      <td>0</td>\n",
       "      <td>[{'code': 'YZ', 'name': 'General industry and ...</td>\n",
       "      <td>{'$oid': '52b213b38594d8a2be17c784'}</td>\n",
       "    </tr>\n",
       "  </tbody>\n",
       "</table>\n",
       "<p>5 rows × 50 columns</p>\n",
       "</div>"
      ],
      "text/plain": [
       "                                              sector supplementprojectflg  \\\n",
       "0  [{'Name': 'Primary education'}, {'Name': 'Seco...                    N   \n",
       "1  [{'Name': 'Public administration- Other social...                    N   \n",
       "2  [{'Name': 'Rural and Inter-Urban Roads and Hig...                    Y   \n",
       "3                [{'Name': 'Other social services'}]                    N   \n",
       "4  [{'Name': 'General industry and trade sector'}...                    N   \n",
       "\n",
       "  projectfinancialtype prodline  \\\n",
       "0                  IDA       PE   \n",
       "1                OTHER       RE   \n",
       "2                  IDA       PE   \n",
       "3                OTHER       RE   \n",
       "4                  IDA       PE   \n",
       "\n",
       "                                             mjtheme  idacommamt  \\\n",
       "0                                [Human development]   130000000   \n",
       "1  [Economic management, Social protection and ri...           0   \n",
       "2  [Trade and integration, Public sector governan...     6060000   \n",
       "3  [Social dev/gender/inclusion, Social dev/gende...           0   \n",
       "4  [Trade and integration, Financial and private ...    13100000   \n",
       "\n",
       "                                  impagency  \\\n",
       "0                     MINISTRY OF EDUCATION   \n",
       "1                       MINISTRY OF FINANCE   \n",
       "2  MINISTRY OF TRANSPORT AND COMMUNICATIONS   \n",
       "3  LABOR INTENSIVE PUBLIC WORKS PROJECT PMU   \n",
       "4            MINISTRY OF TRADE AND INDUSTRY   \n",
       "\n",
       "                                        project_name mjthemecode  \\\n",
       "0  Ethiopia General Education Quality Improvement...        8,11   \n",
       "1          TN: DTF Social Protection Reforms Support         1,6   \n",
       "2  Tuvalu Aviation Investment Project - Additiona...    5,2,11,6   \n",
       "3   Gov't and Civil Society Organization Partnership         7,7   \n",
       "4  Second Private Sector Competitiveness and Econ...         5,4   \n",
       "\n",
       "            closingdate  ...  \\\n",
       "0  2018-07-07T00:00:00Z  ...   \n",
       "1                   NaN  ...   \n",
       "2                   NaN  ...   \n",
       "3                   NaN  ...   \n",
       "4  2019-04-30T00:00:00Z  ...   \n",
       "\n",
       "                                 majorsector_percent board_approval_month  \\\n",
       "0  [{'Percent': 46, 'Name': 'Education'}, {'Perce...             November   \n",
       "1  [{'Percent': 70, 'Name': 'Public Administratio...             November   \n",
       "2       [{'Percent': 100, 'Name': 'Transportation'}]             November   \n",
       "3  [{'Percent': 100, 'Name': 'Health and other so...              October   \n",
       "4  [{'Percent': 50, 'Name': 'Industry and trade'}...              October   \n",
       "\n",
       "                                      theme_namecode  \\\n",
       "0      [{'code': '65', 'name': 'Education for all'}]   \n",
       "1  [{'code': '24', 'name': 'Other economic manage...   \n",
       "2  [{'code': '47', 'name': 'Regional integration'...   \n",
       "3  [{'code': '57', 'name': 'Participation and civ...   \n",
       "4  [{'code': '45', 'name': 'Export development an...   \n",
       "\n",
       "                               countryname  \\\n",
       "0  Federal Democratic Republic of Ethiopia   \n",
       "1                      Republic of Tunisia   \n",
       "2                                   Tuvalu   \n",
       "3                        Republic of Yemen   \n",
       "4                       Kingdom of Lesotho   \n",
       "\n",
       "                                                 url source  \\\n",
       "0  http://www.worldbank.org/projects/P129828/ethi...   IBRD   \n",
       "1  http://www.worldbank.org/projects/P144674?lang=en   IBRD   \n",
       "2  http://www.worldbank.org/projects/P145310?lang=en   IBRD   \n",
       "3  http://www.worldbank.org/projects/P144665?lang=en   IBRD   \n",
       "4  http://www.worldbank.org/projects/P144933/seco...   IBRD   \n",
       "\n",
       "  projectstatusdisplay ibrdcommamt  \\\n",
       "0               Active           0   \n",
       "1               Active           0   \n",
       "2               Active           0   \n",
       "3               Active           0   \n",
       "4               Active           0   \n",
       "\n",
       "                                     sector_namecode  \\\n",
       "0  [{'code': 'EP', 'name': 'Primary education'}, ...   \n",
       "1  [{'code': 'BS', 'name': 'Public administration...   \n",
       "2  [{'code': 'TI', 'name': 'Rural and Inter-Urban...   \n",
       "3  [{'code': 'JB', 'name': 'Other social services'}]   \n",
       "4  [{'code': 'YZ', 'name': 'General industry and ...   \n",
       "\n",
       "                                    _id  \n",
       "0  {'$oid': '52b213b38594d8a2be17c780'}  \n",
       "1  {'$oid': '52b213b38594d8a2be17c781'}  \n",
       "2  {'$oid': '52b213b38594d8a2be17c782'}  \n",
       "3  {'$oid': '52b213b38594d8a2be17c783'}  \n",
       "4  {'$oid': '52b213b38594d8a2be17c784'}  \n",
       "\n",
       "[5 rows x 50 columns]"
      ]
     },
     "execution_count": 91,
     "metadata": {},
     "output_type": "execute_result"
    }
   ],
   "source": [
    "#Sample data\n",
    "wb.head()"
   ]
  },
  {
   "cell_type": "code",
   "execution_count": 92,
   "metadata": {},
   "outputs": [],
   "source": [
    "#Problem 1: Find the top 10 countries with the most projects.\n",
    "#Filter the data\n",
    "p1 = wb.groupby('countryname').size()"
   ]
  },
  {
   "cell_type": "code",
   "execution_count": 93,
   "metadata": {},
   "outputs": [],
   "source": [
    "p1 = p1.sort_values(ascending=False)"
   ]
  },
  {
   "cell_type": "code",
   "execution_count": 94,
   "metadata": {
    "scrolled": true
   },
   "outputs": [
    {
     "data": {
      "text/plain": [
       "countryname\n",
       "People's Republic of China         19\n",
       "Republic of Indonesia              19\n",
       "Socialist Republic of Vietnam      17\n",
       "Republic of India                  16\n",
       "Republic of Yemen                  13\n",
       "Nepal                              12\n",
       "People's Republic of Bangladesh    12\n",
       "Kingdom of Morocco                 12\n",
       "Africa                             11\n",
       "Republic of Mozambique             11\n",
       "Burkina Faso                        9\n",
       "dtype: int64"
      ]
     },
     "execution_count": 94,
     "metadata": {},
     "output_type": "execute_result"
    }
   ],
   "source": [
    "#Inspect the data\n",
    "p1.head(11)"
   ]
  },
  {
   "cell_type": "code",
   "execution_count": 95,
   "metadata": {},
   "outputs": [
    {
     "data": {
      "text/plain": [
       "countryname\n",
       "People's Republic of China       19\n",
       "Republic of Indonesia            19\n",
       "Socialist Republic of Vietnam    17\n",
       "Republic of India                16\n",
       "Republic of Yemen                13\n",
       "                                 ..\n",
       "Republic of Costa Rica            1\n",
       "Republic of Congo                 1\n",
       "Republic of Belarus               1\n",
       "Republic of Cape Verde            1\n",
       "Republic of Poland                1\n",
       "Length: 117, dtype: int64"
      ]
     },
     "execution_count": 95,
     "metadata": {},
     "output_type": "execute_result"
    }
   ],
   "source": [
    "#Africa is a continent, not a country, and should be dropped from the data set.\n",
    "p1.drop('Africa')"
   ]
  },
  {
   "cell_type": "code",
   "execution_count": 96,
   "metadata": {},
   "outputs": [],
   "source": [
    "p1 = pd.DataFrame(p1)"
   ]
  },
  {
   "cell_type": "code",
   "execution_count": 97,
   "metadata": {},
   "outputs": [],
   "source": [
    "p1.columns = ['Projects per country']"
   ]
  },
  {
   "cell_type": "code",
   "execution_count": 98,
   "metadata": {},
   "outputs": [
    {
     "data": {
      "text/plain": [
       "<matplotlib.axes._subplots.AxesSubplot at 0x1ffc9242148>"
      ]
     },
     "execution_count": 98,
     "metadata": {},
     "output_type": "execute_result"
    },
    {
     "data": {
      "image/png": "[encoded data removed]",
      "text/plain": [
       "<Figure size 432x288 with 1 Axes>"
      ]
     },
     "metadata": {
      "needs_background": "light"
     },
     "output_type": "display_data"
    }
   ],
   "source": [
    "#We see that most countries have less than ten world bank projects, but most of the top ten are outliers.\n",
    "#We can graph this with a box plot to see how much these countries differ from the norm\n",
    "p1.plot(kind = 'box')"
   ]
  },
  {
   "cell_type": "code",
   "execution_count": 137,
   "metadata": {},
   "outputs": [],
   "source": [
    "#Project 2: Find the top ten major project themes"
   ]
  },
  {
   "cell_type": "code",
   "execution_count": 145,
   "metadata": {},
   "outputs": [],
   "source": [
    "#Filter the data\n",
    "p2 = wb['mjtheme_namecode']"
   ]
  },
  {
   "cell_type": "code",
   "execution_count": 175,
   "metadata": {},
   "outputs": [
    {
     "data": {
      "text/plain": [
       "[{'code': '5', 'name': 'Trade and integration'},\n",
       " {'code': '2', 'name': 'Public sector governance'},\n",
       " {'code': '11', 'name': 'Environment and natural resources management'},\n",
       " {'code': '6', 'name': 'Social protection and risk management'}]"
      ]
     },
     "execution_count": 175,
     "metadata": {},
     "output_type": "execute_result"
    }
   ],
   "source": [
    "#Inspect the data\n",
    "p2[2]"
   ]
  },
  {
   "cell_type": "code",
   "execution_count": 176,
   "metadata": {},
   "outputs": [],
   "source": [
    "#Each entry is a list of dictionaries. We need a loop to total everything up."
   ]
  },
  {
   "cell_type": "code",
   "execution_count": 177,
   "metadata": {},
   "outputs": [],
   "source": [
    "roughcount = {}\n",
    "for proj in p2:\n",
    "    for projtype in proj:\n",
    "        if projtype['name'] in roughcount:\n",
    "            roughcount[projtype['name']] += 1\n",
    "        else:\n",
    "            roughcount[projtype['name']] = 1"
   ]
  },
  {
   "cell_type": "code",
   "execution_count": 178,
   "metadata": {},
   "outputs": [],
   "source": [
    "projectCount = pd.DataFrame(list(roughcount.items()), columns = ['projectType', 'projectCount'])"
   ]
  },
  {
   "cell_type": "code",
   "execution_count": 179,
   "metadata": {},
   "outputs": [
    {
     "data": {
      "text/html": [
       "<div>\n",
       "<style scoped>\n",
       "    .dataframe tbody tr th:only-of-type {\n",
       "        vertical-align: middle;\n",
       "    }\n",
       "\n",
       "    .dataframe tbody tr th {\n",
       "        vertical-align: top;\n",
       "    }\n",
       "\n",
       "    .dataframe thead th {\n",
       "        text-align: right;\n",
       "    }\n",
       "</style>\n",
       "<table border=\"1\" class=\"dataframe\">\n",
       "  <thead>\n",
       "    <tr style=\"text-align: right;\">\n",
       "      <th></th>\n",
       "      <th>projectCount</th>\n",
       "    </tr>\n",
       "    <tr>\n",
       "      <th>projectType</th>\n",
       "      <th></th>\n",
       "    </tr>\n",
       "  </thead>\n",
       "  <tbody>\n",
       "    <tr>\n",
       "      <td>Environment and natural resources management</td>\n",
       "      <td>223</td>\n",
       "    </tr>\n",
       "    <tr>\n",
       "      <td>Rural development</td>\n",
       "      <td>202</td>\n",
       "    </tr>\n",
       "    <tr>\n",
       "      <td>Human development</td>\n",
       "      <td>197</td>\n",
       "    </tr>\n",
       "    <tr>\n",
       "      <td>Public sector governance</td>\n",
       "      <td>184</td>\n",
       "    </tr>\n",
       "    <tr>\n",
       "      <td>Social protection and risk management</td>\n",
       "      <td>158</td>\n",
       "    </tr>\n",
       "    <tr>\n",
       "      <td>Financial and private sector development</td>\n",
       "      <td>130</td>\n",
       "    </tr>\n",
       "    <tr>\n",
       "      <td></td>\n",
       "      <td>122</td>\n",
       "    </tr>\n",
       "    <tr>\n",
       "      <td>Social dev/gender/inclusion</td>\n",
       "      <td>119</td>\n",
       "    </tr>\n",
       "    <tr>\n",
       "      <td>Trade and integration</td>\n",
       "      <td>72</td>\n",
       "    </tr>\n",
       "    <tr>\n",
       "      <td>Urban development</td>\n",
       "      <td>47</td>\n",
       "    </tr>\n",
       "    <tr>\n",
       "      <td>Economic management</td>\n",
       "      <td>33</td>\n",
       "    </tr>\n",
       "    <tr>\n",
       "      <td>Rule of law</td>\n",
       "      <td>12</td>\n",
       "    </tr>\n",
       "  </tbody>\n",
       "</table>\n",
       "</div>"
      ],
      "text/plain": [
       "                                              projectCount\n",
       "projectType                                               \n",
       "Environment and natural resources management           223\n",
       "Rural development                                      202\n",
       "Human development                                      197\n",
       "Public sector governance                               184\n",
       "Social protection and risk management                  158\n",
       "Financial and private sector development               130\n",
       "                                                       122\n",
       "Social dev/gender/inclusion                            119\n",
       "Trade and integration                                   72\n",
       "Urban development                                       47\n",
       "Economic management                                     33\n",
       "Rule of law                                             12"
      ]
     },
     "execution_count": 179,
     "metadata": {},
     "output_type": "execute_result"
    }
   ],
   "source": [
    "#The data is ready to be visualized. We can see that environment and natural resources management is the most common\n",
    "#type of project, and rule of law is the least common.\n",
    "#The blank column is data where the name field was left blank. Codes are still present for this data. We can rewrite\n",
    "#the loop to take this into account.\n",
    "projectCount.set_index('projectType').sort_values('projectCount', ascending = False)"
   ]
  },
  {
   "cell_type": "code",
   "execution_count": 202,
   "metadata": {},
   "outputs": [
    {
     "data": {
      "text/plain": [
       "<matplotlib.axes._subplots.AxesSubplot at 0x1ffc8c2a788>"
      ]
     },
     "execution_count": 202,
     "metadata": {},
     "output_type": "execute_result"
    },
    {
     "data": {
      "image/png": "[encoded data removed]",
      "text/plain": [
       "<Figure size 432x288 with 1 Axes>"
      ]
     },
     "metadata": {
      "needs_background": "light"
     },
     "output_type": "display_data"
    }
   ],
   "source": [
    "#Here's the unfinished plot with the blank data:\n",
    "projectCount.plot(kind = 'bar')"
   ]
  },
  {
   "cell_type": "code",
   "execution_count": 182,
   "metadata": {},
   "outputs": [],
   "source": [
    "#Problem 3: Fill in the missing data. We begin by finding what the codes match to.\n",
    "#Build a dictionary containing the meaning of all the codes\n",
    "codekey = {}\n",
    "for proj in p2:\n",
    "    for projtype in proj:\n",
    "        if (projtype['name'] != '') & ~(projtype['code'] in codekey):\n",
    "            codekey[projtype['code']] = projtype['name']"
   ]
  },
  {
   "cell_type": "code",
   "execution_count": 184,
   "metadata": {},
   "outputs": [],
   "source": [
    "#Now we revise the for loop to check codekey for the meanings of the codes.\n",
    "roughcount = {}\n",
    "for proj in p2:\n",
    "    for projtype in proj:\n",
    "        if codekey[projtype['code']] in roughcount:\n",
    "            roughcount[codekey[projtype['code']]] += 1\n",
    "        else:\n",
    "            roughcount[codekey[projtype['code']]] = 1"
   ]
  },
  {
   "cell_type": "code",
   "execution_count": 185,
   "metadata": {},
   "outputs": [
    {
     "data": {
      "text/plain": [
       "{'Human development': 210,\n",
       " 'Environment and natural resources management': 250,\n",
       " 'Economic management': 38,\n",
       " 'Social protection and risk management': 168,\n",
       " 'Trade and integration': 77,\n",
       " 'Public sector governance': 199,\n",
       " 'Social dev/gender/inclusion': 130,\n",
       " 'Financial and private sector development': 146,\n",
       " 'Rural development': 216,\n",
       " 'Urban development': 50,\n",
       " 'Rule of law': 15}"
      ]
     },
     "execution_count": 185,
     "metadata": {},
     "output_type": "execute_result"
    }
   ],
   "source": [
    "#Our data set is complete.\n",
    "roughcount"
   ]
  },
  {
   "cell_type": "code",
   "execution_count": 192,
   "metadata": {},
   "outputs": [],
   "source": [
    "projectCount = pd.DataFrame(list(roughcount.items()), columns = ['projectType', 'projectCount'])"
   ]
  },
  {
   "cell_type": "code",
   "execution_count": 194,
   "metadata": {},
   "outputs": [
    {
     "data": {
      "text/html": [
       "<div>\n",
       "<style scoped>\n",
       "    .dataframe tbody tr th:only-of-type {\n",
       "        vertical-align: middle;\n",
       "    }\n",
       "\n",
       "    .dataframe tbody tr th {\n",
       "        vertical-align: top;\n",
       "    }\n",
       "\n",
       "    .dataframe thead th {\n",
       "        text-align: right;\n",
       "    }\n",
       "</style>\n",
       "<table border=\"1\" class=\"dataframe\">\n",
       "  <thead>\n",
       "    <tr style=\"text-align: right;\">\n",
       "      <th></th>\n",
       "      <th>projectCount</th>\n",
       "    </tr>\n",
       "    <tr>\n",
       "      <th>projectType</th>\n",
       "      <th></th>\n",
       "    </tr>\n",
       "  </thead>\n",
       "  <tbody>\n",
       "    <tr>\n",
       "      <td>Environment and natural resources management</td>\n",
       "      <td>250</td>\n",
       "    </tr>\n",
       "    <tr>\n",
       "      <td>Rural development</td>\n",
       "      <td>216</td>\n",
       "    </tr>\n",
       "    <tr>\n",
       "      <td>Human development</td>\n",
       "      <td>210</td>\n",
       "    </tr>\n",
       "    <tr>\n",
       "      <td>Public sector governance</td>\n",
       "      <td>199</td>\n",
       "    </tr>\n",
       "    <tr>\n",
       "      <td>Social protection and risk management</td>\n",
       "      <td>168</td>\n",
       "    </tr>\n",
       "    <tr>\n",
       "      <td>Financial and private sector development</td>\n",
       "      <td>146</td>\n",
       "    </tr>\n",
       "    <tr>\n",
       "      <td>Social dev/gender/inclusion</td>\n",
       "      <td>130</td>\n",
       "    </tr>\n",
       "    <tr>\n",
       "      <td>Trade and integration</td>\n",
       "      <td>77</td>\n",
       "    </tr>\n",
       "    <tr>\n",
       "      <td>Urban development</td>\n",
       "      <td>50</td>\n",
       "    </tr>\n",
       "    <tr>\n",
       "      <td>Economic management</td>\n",
       "      <td>38</td>\n",
       "    </tr>\n",
       "    <tr>\n",
       "      <td>Rule of law</td>\n",
       "      <td>15</td>\n",
       "    </tr>\n",
       "  </tbody>\n",
       "</table>\n",
       "</div>"
      ],
      "text/plain": [
       "                                              projectCount\n",
       "projectType                                               \n",
       "Environment and natural resources management           250\n",
       "Rural development                                      216\n",
       "Human development                                      210\n",
       "Public sector governance                               199\n",
       "Social protection and risk management                  168\n",
       "Financial and private sector development               146\n",
       "Social dev/gender/inclusion                            130\n",
       "Trade and integration                                   77\n",
       "Urban development                                       50\n",
       "Economic management                                     38\n",
       "Rule of law                                             15"
      ]
     },
     "execution_count": 194,
     "metadata": {},
     "output_type": "execute_result"
    }
   ],
   "source": [
    "#We now have all the data we need to make a graph\n",
    "projectCount.set_index('projectType').sort_values('projectCount', ascending = False)"
   ]
  },
  {
   "cell_type": "code",
   "execution_count": 201,
   "metadata": {},
   "outputs": [
    {
     "data": {
      "text/plain": [
       "<matplotlib.axes._subplots.AxesSubplot at 0x1ffc8ba7308>"
      ]
     },
     "execution_count": 201,
     "metadata": {},
     "output_type": "execute_result"
    },
    {
     "data": {
      "image/png": "[encoded data removed]",
      "text/plain": [
       "<Figure size 432x288 with 1 Axes>"
      ]
     },
     "metadata": {
      "needs_background": "light"
     },
     "output_type": "display_data"
    }
   ],
   "source": [
    "projectCount.plot(kind = 'bar')"
   ]
  },
  {
   "cell_type": "code",
   "execution_count": null,
   "metadata": {},
   "outputs": [],
   "source": [
    "#Another solution would be to check the data set for the meaning of missing codes or even build codekey as we go.\n",
    "#This solution is slower but easier to understand and preserves the codekey dictionary for later use."
   ]
  },
  {
   "cell_type": "code",
   "execution_count": null,
   "metadata": {},
   "outputs": [],
   "source": []
  }
 ],
 "metadata": {
  "kernelspec": {
   "display_name": "Python 3",
   "language": "python",
   "name": "python3"
  },
  "language_info": {
   "codemirror_mode": {
    "name": "ipython",
    "version": 3
   },
   "file_extension": ".py",
   "mimetype": "text/x-python",
   "name": "python",
   "nbconvert_exporter": "python",
   "pygments_lexer": "ipython3",
   "version": "3.7.4"
  }
 },
 "nbformat": 4,
 "nbformat_minor": 2
}
